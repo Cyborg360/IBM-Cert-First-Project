{
 "cells": [
  {
   "cell_type": "markdown",
   "id": "d29a4b01-3b48-4375-b000-aeb6d1ce9bfa",
   "metadata": {},
   "source": [
    "\n",
    "# Data Science Tools and Ecosystems\n",
    "\n"
   ]
  },
  {
   "cell_type": "markdown",
   "id": "09cdb122-b9ab-40a6-bdad-94dd1c3f564d",
   "metadata": {},
   "source": [
    "In this notebook, Data Science Tools and Ecosystem are summarized."
   ]
  },
  {
   "cell_type": "markdown",
   "id": "e0c22edc-eccd-4f0d-967c-71d71ea8e273",
   "metadata": {},
   "source": [
    "**Objectives:**\n",
    "\n",
    "<ul>\n",
    "    <li>List popular Languages for Data Science</li>\n",
    "    <li>List pupular libraries for Data Science</li>\n",
    "    <li>Table of popular tools for Data Science</li>\n",
    "    <li>Code arithmetic expresions</li>\n",
    "</ul>"
   ]
  },
  {
   "cell_type": "markdown",
   "id": "906ef471-d20a-4d10-bcd8-d08013939727",
   "metadata": {},
   "source": [
    "**Some of the popular languages that Data Scientists use are:**\n",
    "\n",
    "1. Python\n",
    "2. R\n",
    "3. Java\n",
    "\n"
   ]
  },
  {
   "cell_type": "markdown",
   "id": "dd27a5d4-119f-4a41-89fc-289a9d68a078",
   "metadata": {},
   "source": [
    "**Some of the commonly used libraries used by Data Scientists include:**\n",
    "\n",
    "1. pandas\n",
    "2. numpy\n",
    "3. matplotlib"
   ]
  },
  {
   "cell_type": "markdown",
   "id": "ddc64f7f-eb60-4f8c-a617-1e684c32b316",
   "metadata": {},
   "source": [
    "<table>\n",
    "    <tr>\n",
    "        <th>Data Science Tools</th>\n",
    "    </tr>\n",
    "    <tr>\n",
    "        <td>TensorFlow</td>\n",
    "    </tr>\n",
    "    <tr>\n",
    "        <td>RStudio</td>\n",
    "    </tr>\n",
    "    <tr>\n",
    "        <td>Apache Spark</td>\n",
    "    </tr>\n",
    "</table>"
   ]
  },
  {
   "cell_type": "markdown",
   "id": "647ef3df-8037-4ccf-8826-cd47185bbf3e",
   "metadata": {},
   "source": [
    "\n",
    "### Below are a few examplese of evaluating arithmetic expressions in Python\n"
   ]
  },
  {
   "cell_type": "code",
   "execution_count": 1,
   "id": "77a5b283-d4ce-458a-b267-e71212e39f13",
   "metadata": {},
   "outputs": [
    {
     "data": {
      "text/plain": [
       "17"
      ]
     },
     "execution_count": 1,
     "metadata": {},
     "output_type": "execute_result"
    }
   ],
   "source": [
    "#This simpple arithmetic expession to multiply then add integers\n",
    "\n",
    "(3*4)+5"
   ]
  },
  {
   "cell_type": "code",
   "execution_count": 2,
   "id": "d4ffb6c8-28a3-43fc-840d-7c0389a9851e",
   "metadata": {},
   "outputs": [
    {
     "data": {
      "text/plain": [
       "3.3333333333333335"
      ]
     },
     "execution_count": 2,
     "metadata": {},
     "output_type": "execute_result"
    }
   ],
   "source": [
    "#This will convert 200 minutes to hours by dividing by 60\n",
    "\n",
    "200/60"
   ]
  },
  {
   "cell_type": "markdown",
   "id": "9aebe3b5-aa06-4752-8d00-fe25cc50a915",
   "metadata": {},
   "source": [
    "\n",
    "## Author\n",
    "\n",
    "Christian Arenas"
   ]
  }
 ],
 "metadata": {
  "kernelspec": {
   "display_name": "Python 3 (ipykernel)",
   "language": "python",
   "name": "python3"
  },
  "language_info": {
   "codemirror_mode": {
    "name": "ipython",
    "version": 3
   },
   "file_extension": ".py",
   "mimetype": "text/x-python",
   "name": "python",
   "nbconvert_exporter": "python",
   "pygments_lexer": "ipython3",
   "version": "3.11.5"
  }
 },
 "nbformat": 4,
 "nbformat_minor": 5
}
